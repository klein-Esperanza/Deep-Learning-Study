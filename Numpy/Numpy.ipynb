{
  "nbformat": 4,
  "nbformat_minor": 0,
  "metadata": {
    "colab": {
      "provenance": [],
      "authorship_tag": "ABX9TyM2liFOU7m9q+1WOQJmGTsm",
      "include_colab_link": true
    },
    "kernelspec": {
      "name": "python3",
      "display_name": "Python 3"
    },
    "language_info": {
      "name": "python"
    }
  },
  "cells": [
    {
      "cell_type": "markdown",
      "metadata": {
        "id": "view-in-github",
        "colab_type": "text"
      },
      "source": [
        "<a href=\"https://colab.research.google.com/github/klein-Esperanza/Deep-Learning-Study/blob/main/Numpy/Numpy.ipynb\" target=\"_parent\"><img src=\"https://colab.research.google.com/assets/colab-badge.svg\" alt=\"Open In Colab\"/></a>"
      ]
    },
    {
      "cell_type": "markdown",
      "source": [
        "# 1.创建数组"
      ],
      "metadata": {
        "id": "CYI3hWa-lg52"
      }
    },
    {
      "cell_type": "code",
      "source": [
        "import numpy as np"
      ],
      "metadata": {
        "id": "LD3uuLoIuuVC"
      },
      "execution_count": 1,
      "outputs": []
    },
    {
      "cell_type": "code",
      "source": [
        "# 创建一维数组\n",
        "a1 = np.array([1,2,3])\n",
        "print(\"一维数组：\", a1)"
      ],
      "metadata": {
        "colab": {
          "base_uri": "https://localhost:8080/"
        },
        "id": "XBtZutjycwEM",
        "outputId": "26bd6336-a0ae-450e-afc5-59c701e37c2d"
      },
      "execution_count": 2,
      "outputs": [
        {
          "output_type": "stream",
          "name": "stdout",
          "text": [
            "一维数组： [1 2 3]\n"
          ]
        }
      ]
    },
    {
      "cell_type": "code",
      "source": [
        "# 创建二维数组（2x3 的零矩阵）\n",
        "a2 = np.zeros((2, 3))\n",
        "print(\"零矩阵：\\n\", a2)"
      ],
      "metadata": {
        "colab": {
          "base_uri": "https://localhost:8080/"
        },
        "id": "vjr0REgJdEic",
        "outputId": "0a929311-9e5b-4051-f1ab-922535687b3a"
      },
      "execution_count": 4,
      "outputs": [
        {
          "output_type": "stream",
          "name": "stdout",
          "text": [
            "零矩阵：\n",
            " [[0. 0. 0.]\n",
            " [0. 0. 0.]]\n"
          ]
        }
      ]
    },
    {
      "cell_type": "code",
      "source": [
        "# 创建二维数组（3x3 的单位矩阵）\n",
        "a3 = np.ones((3, 3))\n",
        "print(\"单位矩阵：\\n\", a3)"
      ],
      "metadata": {
        "colab": {
          "base_uri": "https://localhost:8080/"
        },
        "id": "VDH79NqAd00x",
        "outputId": "e00c7d78-d24a-477e-cfdf-b6a9eb101bb9"
      },
      "execution_count": 5,
      "outputs": [
        {
          "output_type": "stream",
          "name": "stdout",
          "text": [
            "单位矩阵：\n",
            " [[1. 1. 1.]\n",
            " [1. 1. 1.]\n",
            " [1. 1. 1.]]\n"
          ]
        }
      ]
    },
    {
      "cell_type": "code",
      "source": [
        "# 创建一个从0到10（不包括10），步长为2的数组\n",
        "# 步长：每次加2 -- 从0开始，每次加2，直到小于10为止\n",
        "a4 = np.arange(0, 10, 2) # 创建一个等差数列 起始值包含，终止值不包含 [start, end) 左闭右开区间\n",
        "print(\"步长为2的数组：\", a4)"
      ],
      "metadata": {
        "colab": {
          "base_uri": "https://localhost:8080/"
        },
        "id": "dSpEZ0koeqDv",
        "outputId": "edd8f8fb-2f6e-4594-9e20-a1c02e894f31"
      },
      "execution_count": 7,
      "outputs": [
        {
          "output_type": "stream",
          "name": "stdout",
          "text": [
            "步长为2的数组： [0 2 4 6 8]\n"
          ]
        }
      ]
    },
    {
      "cell_type": "code",
      "source": [
        " # 创建一个包含5个数的等间距数组\n",
        " a5 = np.linspace(0, 1, 5)\n",
        " print(\"等间距数组：\", a5)"
      ],
      "metadata": {
        "colab": {
          "base_uri": "https://localhost:8080/"
        },
        "id": "Cf6dLtnLjw39",
        "outputId": "fec93c00-6d11-4cb4-b28b-ae06f6dda8d9"
      },
      "execution_count": 8,
      "outputs": [
        {
          "output_type": "stream",
          "name": "stdout",
          "text": [
            "等间距数组： [0.   0.25 0.5  0.75 1.  ]\n"
          ]
        }
      ]
    },
    {
      "cell_type": "markdown",
      "source": [
        "# 2.数组操作"
      ],
      "metadata": {
        "id": "HYtECxTOlo9S"
      }
    },
    {
      "cell_type": "code",
      "source": [
        "# reshape:改变数组形状\n",
        "a = np.arange(12) # 创建一维数组\n",
        "print(a.shape) # (12,)这个,是因为在Numpy里，数组的shape永远是一个“元组（tuple）\" , 强调是一个只有一个元素的元组而非数字12\n",
        "\n",
        "b = a.reshape(3, 4) # 变成3行4列的矩阵\n",
        "print(b)\n",
        "print(b.shape)"
      ],
      "metadata": {
        "colab": {
          "base_uri": "https://localhost:8080/"
        },
        "id": "HUdCUYcxvahm",
        "outputId": "e0584c9f-dd21-43d6-82a0-df04eec941b2"
      },
      "execution_count": 12,
      "outputs": [
        {
          "output_type": "stream",
          "name": "stdout",
          "text": [
            "(12,)\n",
            "[[ 0  1  2  3]\n",
            " [ 4  5  6  7]\n",
            " [ 8  9 10 11]]\n",
            "(3, 4)\n"
          ]
        }
      ]
    },
    {
      "cell_type": "code",
      "source": [
        "# transpose(或.T):转置\n",
        "c = b.T # 转置，行列互换\n",
        "print(c)\n",
        "print(c.shape)"
      ],
      "metadata": {
        "colab": {
          "base_uri": "https://localhost:8080/"
        },
        "id": "uUxiNQ7ZwyEQ",
        "outputId": "795e0028-cd8a-4848-b74e-1653f862ac30"
      },
      "execution_count": 13,
      "outputs": [
        {
          "output_type": "stream",
          "name": "stdout",
          "text": [
            "[[ 0  4  8]\n",
            " [ 1  5  9]\n",
            " [ 2  6 10]\n",
            " [ 3  7 11]]\n",
            "(4, 3)\n"
          ]
        }
      ]
    },
    {
      "cell_type": "code",
      "source": [
        "# astype:改变数据类型\n",
        "d = np.array([1.2, 3.4, 5.6])\n",
        "print(d.dtype)\n",
        "\n",
        "e = d.astype(np.int32) # 转成整数\n",
        "print(e)\n",
        "print(e.dtype)"
      ],
      "metadata": {
        "colab": {
          "base_uri": "https://localhost:8080/"
        },
        "id": "z253AkPb0k7y",
        "outputId": "12181eb7-364b-481d-f943-e132f134a45a"
      },
      "execution_count": 15,
      "outputs": [
        {
          "output_type": "stream",
          "name": "stdout",
          "text": [
            "float64\n",
            "[1 3 5]\n",
            "int32\n"
          ]
        }
      ]
    },
    {
      "cell_type": "code",
      "source": [
        "# copy:深拷贝 vs 浅拷贝\n",
        "f = np.array([1, 2, 3])\n",
        "\n",
        "h = f.copy() # 深拷贝\n",
        "h[0] = 999\n",
        "print(f) # f不变\n",
        "\n",
        "g = f # 浅拷贝\n",
        "g[0] = 100\n",
        "print(f) # f变化\n",
        "\n"
      ],
      "metadata": {
        "colab": {
          "base_uri": "https://localhost:8080/"
        },
        "id": "Q-POYncn219q",
        "outputId": "55c067b2-f59d-4f4a-d80a-b09b3f19cae7"
      },
      "execution_count": 19,
      "outputs": [
        {
          "output_type": "stream",
          "name": "stdout",
          "text": [
            "[1 2 3]\n",
            "[100   2   3]\n"
          ]
        }
      ]
    },
    {
      "cell_type": "code",
      "source": [
        "# flatten:降维成一维数组\n",
        "i = np.array([[1, 2, 3], [4, 5, 6]])\n",
        "j = i.flatten()\n",
        "print(j)\n"
      ],
      "metadata": {
        "colab": {
          "base_uri": "https://localhost:8080/"
        },
        "id": "jaburUzZ3379",
        "outputId": "e70834b1-0b72-4b02-cd81-ee27afa1a767"
      },
      "execution_count": 23,
      "outputs": [
        {
          "output_type": "stream",
          "name": "stdout",
          "text": [
            "[1 2 3 4 5 6]\n"
          ]
        }
      ]
    },
    {
      "cell_type": "markdown",
      "source": [
        "# 3.索引与切片"
      ],
      "metadata": {
        "id": "b6a5dDutlklj"
      }
    },
    {
      "cell_type": "markdown",
      "source": [
        "# 4.广播机制"
      ],
      "metadata": {
        "id": "BJNdHavolr3a"
      }
    },
    {
      "cell_type": "markdown",
      "source": [
        "# 5.数学统计"
      ],
      "metadata": {
        "id": "MIvaALPaluv0"
      }
    },
    {
      "cell_type": "markdown",
      "source": [
        "# 6.矩阵运算"
      ],
      "metadata": {
        "id": "Sdzh2wzglxqs"
      }
    },
    {
      "cell_type": "markdown",
      "source": [
        "# 7.随机数生成"
      ],
      "metadata": {
        "id": "YjKRaZ8-l3oC"
      }
    }
  ]
}